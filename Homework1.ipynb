{
 "cells": [
  {
   "cell_type": "markdown",
   "metadata": {},
   "source": [
    "# CSIE 5452, Fall 2019 — Homework 1"
   ]
  },
  {
   "cell_type": "code",
   "execution_count": 1,
   "metadata": {},
   "outputs": [],
   "source": [
    "import sys\n",
    "import numpy as np\n",
    "from pandas.core.frame import DataFrame\n",
    "\n",
    "sys.setrecursionlimit(9000000)"
   ]
  },
  {
   "cell_type": "markdown",
   "metadata": {},
   "source": [
    "## Functions "
   ]
  },
  {
   "cell_type": "markdown",
   "metadata": {},
   "source": [
    "### 1. Read file and preprocess data "
   ]
  },
  {
   "cell_type": "code",
   "execution_count": 2,
   "metadata": {},
   "outputs": [],
   "source": [
    "def preprocess_data(file_dir):\n",
    "    \n",
    "    with open(file_dir, 'r') as f:\n",
    "        dat = [line.rstrip('\\n') for line in f]\n",
    "    msg_num = int(dat[0])\n",
    "    one_bit_trans = float(dat[1])\n",
    "              \n",
    "    temp = []\n",
    "    for i in range (len(dat) - 2):\n",
    "        temp.append(dat[i+2])\n",
    "    \n",
    "    data = []\n",
    "    i = 0\n",
    "    for d in temp:\n",
    "        data.append(d.split(' '))\n",
    "        if '' in data[i]:\n",
    "            data[i].remove('')\n",
    "        for j, item  in  enumerate(data[i]):\n",
    "            try:\n",
    "                data[i][j] = int(data[i][j])\n",
    "            except ValueError:\n",
    "                data[i][j] = float(data[i][j])\n",
    "        i+=1\n",
    "    \n",
    "    return msg_num, one_bit_trans, data"
   ]
  },
  {
   "cell_type": "markdown",
   "metadata": {},
   "source": [
    "### 2. Compute right hand side "
   ]
  },
  {
   "cell_type": "code",
   "execution_count": 3,
   "metadata": {},
   "outputs": [],
   "source": [
    "def RHS(i, Qi, Bi, tao, data):\n",
    "    \n",
    "    temp = 0\n",
    "    for n in range (i):\n",
    "        temp += ((Qi + tao)/data[n][2])*data[n][1]\n",
    "    rhs = Bi + temp\n",
    "    \n",
    "    return rhs"
   ]
  },
  {
   "cell_type": "markdown",
   "metadata": {},
   "source": [
    "### 3. Compute Qi"
   ]
  },
  {
   "cell_type": "code",
   "execution_count": 4,
   "metadata": {},
   "outputs": [],
   "source": [
    "def calQi(i, q, Bi, Ci, Ti, tao, data):\n",
    "    \n",
    "    rhs = RHS(i, q, Bi, tao, data)\n",
    "    if rhs + Ci >Ti:\n",
    "        return 'nan'\n",
    "    elif rhs == q:\n",
    "        return q\n",
    "    else:\n",
    "        return calQi(i, rhs, Bi, Ci, Ti, tao, data)"
   ]
  },
  {
   "cell_type": "markdown",
   "metadata": {},
   "source": [
    "### 4. Compute blocking time"
   ]
  },
  {
   "cell_type": "code",
   "execution_count": 5,
   "metadata": {},
   "outputs": [],
   "source": [
    "def calBi(i, data):\n",
    "    \n",
    "    blocking_time = data[i][1]\n",
    "    for j in range(len(data) - (i+1)):\n",
    "        if data[i+j][1] > blocking_time:\n",
    "            blocking_time = data[i+j][1]\n",
    "    \n",
    "    return blocking_time"
   ]
  },
  {
   "cell_type": "markdown",
   "metadata": {},
   "source": [
    "### 5. Compute worst-case response time"
   ]
  },
  {
   "cell_type": "code",
   "execution_count": 6,
   "metadata": {},
   "outputs": [],
   "source": [
    "def calRi(i, Bi, tao, data):\n",
    "    \n",
    "    if i == 0:\n",
    "        Q = Bi\n",
    "        R = Q + data[i][1]\n",
    "        return R\n",
    "    else:\n",
    "        Q = calQi(i, Bi, Bi, data[i][1], data[i][2], tao, data)\n",
    "        if Q == 'nan':\n",
    "            return print('The system is not schedulable')\n",
    "        else:\n",
    "            R = Q + data[i][1]        \n",
    "            return R"
   ]
  },
  {
   "cell_type": "markdown",
   "metadata": {},
   "source": [
    "## Main "
   ]
  },
  {
   "cell_type": "code",
   "execution_count": 7,
   "metadata": {},
   "outputs": [],
   "source": [
    "FILE_DIR = 'Input.dat'"
   ]
  },
  {
   "cell_type": "code",
   "execution_count": 8,
   "metadata": {},
   "outputs": [
    {
     "name": "stdout",
     "output_type": "stream",
     "text": [
      "Message quantity: 17, Transmission of one bit: 0.002\n"
     ]
    },
    {
     "data": {
      "text/html": [
       "<div>\n",
       "<style scoped>\n",
       "    .dataframe tbody tr th:only-of-type {\n",
       "        vertical-align: middle;\n",
       "    }\n",
       "\n",
       "    .dataframe tbody tr th {\n",
       "        vertical-align: top;\n",
       "    }\n",
       "\n",
       "    .dataframe thead th {\n",
       "        text-align: right;\n",
       "    }\n",
       "</style>\n",
       "<table border=\"1\" class=\"dataframe\">\n",
       "  <thead>\n",
       "    <tr style=\"text-align: right;\">\n",
       "      <th></th>\n",
       "      <th>Priority</th>\n",
       "      <th>Trans. Time</th>\n",
       "      <th>Period</th>\n",
       "    </tr>\n",
       "  </thead>\n",
       "  <tbody>\n",
       "    <tr>\n",
       "      <th>0</th>\n",
       "      <td>0</td>\n",
       "      <td>0.52</td>\n",
       "      <td>50</td>\n",
       "    </tr>\n",
       "    <tr>\n",
       "      <th>1</th>\n",
       "      <td>1</td>\n",
       "      <td>0.60</td>\n",
       "      <td>5</td>\n",
       "    </tr>\n",
       "    <tr>\n",
       "      <th>2</th>\n",
       "      <td>2</td>\n",
       "      <td>0.52</td>\n",
       "      <td>5</td>\n",
       "    </tr>\n",
       "    <tr>\n",
       "      <th>3</th>\n",
       "      <td>3</td>\n",
       "      <td>0.60</td>\n",
       "      <td>5</td>\n",
       "    </tr>\n",
       "    <tr>\n",
       "      <th>4</th>\n",
       "      <td>4</td>\n",
       "      <td>0.52</td>\n",
       "      <td>5</td>\n",
       "    </tr>\n",
       "    <tr>\n",
       "      <th>5</th>\n",
       "      <td>5</td>\n",
       "      <td>0.60</td>\n",
       "      <td>5</td>\n",
       "    </tr>\n",
       "    <tr>\n",
       "      <th>6</th>\n",
       "      <td>6</td>\n",
       "      <td>0.92</td>\n",
       "      <td>10</td>\n",
       "    </tr>\n",
       "    <tr>\n",
       "      <th>7</th>\n",
       "      <td>7</td>\n",
       "      <td>0.52</td>\n",
       "      <td>10</td>\n",
       "    </tr>\n",
       "    <tr>\n",
       "      <th>8</th>\n",
       "      <td>8</td>\n",
       "      <td>0.60</td>\n",
       "      <td>10</td>\n",
       "    </tr>\n",
       "    <tr>\n",
       "      <th>9</th>\n",
       "      <td>9</td>\n",
       "      <td>0.68</td>\n",
       "      <td>10</td>\n",
       "    </tr>\n",
       "    <tr>\n",
       "      <th>10</th>\n",
       "      <td>10</td>\n",
       "      <td>0.52</td>\n",
       "      <td>50</td>\n",
       "    </tr>\n",
       "    <tr>\n",
       "      <th>11</th>\n",
       "      <td>11</td>\n",
       "      <td>0.76</td>\n",
       "      <td>100</td>\n",
       "    </tr>\n",
       "    <tr>\n",
       "      <th>12</th>\n",
       "      <td>12</td>\n",
       "      <td>0.52</td>\n",
       "      <td>100</td>\n",
       "    </tr>\n",
       "    <tr>\n",
       "      <th>13</th>\n",
       "      <td>13</td>\n",
       "      <td>0.52</td>\n",
       "      <td>100</td>\n",
       "    </tr>\n",
       "    <tr>\n",
       "      <th>14</th>\n",
       "      <td>14</td>\n",
       "      <td>0.68</td>\n",
       "      <td>1000</td>\n",
       "    </tr>\n",
       "    <tr>\n",
       "      <th>15</th>\n",
       "      <td>15</td>\n",
       "      <td>0.52</td>\n",
       "      <td>1000</td>\n",
       "    </tr>\n",
       "    <tr>\n",
       "      <th>16</th>\n",
       "      <td>16</td>\n",
       "      <td>0.52</td>\n",
       "      <td>1000</td>\n",
       "    </tr>\n",
       "  </tbody>\n",
       "</table>\n",
       "</div>"
      ],
      "text/plain": [
       "    Priority  Trans. Time  Period\n",
       "0          0         0.52      50\n",
       "1          1         0.60       5\n",
       "2          2         0.52       5\n",
       "3          3         0.60       5\n",
       "4          4         0.52       5\n",
       "5          5         0.60       5\n",
       "6          6         0.92      10\n",
       "7          7         0.52      10\n",
       "8          8         0.60      10\n",
       "9          9         0.68      10\n",
       "10        10         0.52      50\n",
       "11        11         0.76     100\n",
       "12        12         0.52     100\n",
       "13        13         0.52     100\n",
       "14        14         0.68    1000\n",
       "15        15         0.52    1000\n",
       "16        16         0.52    1000"
      ]
     },
     "execution_count": 8,
     "metadata": {},
     "output_type": "execute_result"
    }
   ],
   "source": [
    "MSG_NUM, TAO, DATA = preprocess_data(FILE_DIR)\n",
    "dataframe = DataFrame(DATA)\n",
    "dataframe.rename(columns={0:'Priority',1:'Trans. Time',2:'Period'},inplace=True)\n",
    "\n",
    "print ('Message quantity: '+ str(MSG_NUM) + ', Transmission of one bit: '+ str(TAO))\n",
    "dataframe"
   ]
  },
  {
   "cell_type": "code",
   "execution_count": 9,
   "metadata": {
    "scrolled": false
   },
   "outputs": [
    {
     "name": "stdout",
     "output_type": "stream",
     "text": [
      "Message μ0 worst-case response time: 1.44\n",
      "Message μ1 worst-case response time: 1.5296895715440582\n",
      "Message μ2 worst-case response time: 1.5782575896964122\n",
      "Message μ3 worst-case response time: 1.8022842215256007\n",
      "Message μ4 worst-case response time: 1.9461288723667907\n",
      "Message μ5 worst-case response time: 2.3003633677991138\n",
      "Message μ6 worst-case response time: 3.1049070208728646\n",
      "Message μ7 worst-case response time: 2.8298932038834943\n",
      "Message μ8 worst-case response time: 3.342956772334292\n",
      "Message μ9 worst-case response time: 4.179838235294114\n",
      "Message μ10 worst-case response time: 5.611582887700525\n",
      "Message μ11 worst-case response time: 6.232137931034473\n",
      "Message μ12 worst-case response time: 5.700370820668679\n",
      "Message μ13 worst-case response time: 5.913569620253163\n",
      "Message μ14 worst-case response time: 6.305062706270615\n",
      "Message μ15 worst-case response time: 4.849231330899434\n",
      "Message μ16 worst-case response time: 4.8679999999999914\n"
     ]
    },
    {
     "data": {
      "text/plain": [
       "[1.44,\n",
       " 1.5296895715440582,\n",
       " 1.5782575896964122,\n",
       " 1.8022842215256007,\n",
       " 1.9461288723667907,\n",
       " 2.3003633677991138,\n",
       " 3.1049070208728646,\n",
       " 2.8298932038834943,\n",
       " 3.342956772334292,\n",
       " 4.179838235294114,\n",
       " 5.611582887700525,\n",
       " 6.232137931034473,\n",
       " 5.700370820668679,\n",
       " 5.913569620253163,\n",
       " 6.305062706270615,\n",
       " 4.849231330899434,\n",
       " 4.8679999999999914]"
      ]
     },
     "execution_count": 9,
     "metadata": {},
     "output_type": "execute_result"
    }
   ],
   "source": [
    "Ri_list = []\n",
    "for i, item in enumerate(DATA):\n",
    "    Bi = calBi(i, DATA)\n",
    "    Ri = calRi(i, Bi, TAO, DATA)\n",
    "    Ri_list.append(Ri)\n",
    "    print ('Message μ'+ str(i) + ' worst-case response time: ' + str(Ri))\n",
    "\n",
    "Ri_list"
   ]
  },
  {
   "cell_type": "markdown",
   "metadata": {},
   "source": [
    "## Homework Question 1"
   ]
  },
  {
   "cell_type": "code",
   "execution_count": 10,
   "metadata": {},
   "outputs": [
    {
     "name": "stdout",
     "output_type": "stream",
     "text": [
      "Message μ0 worst-case response time: 40\n",
      "Message μ1 worst-case response time: 67.525\n",
      "Message μ2 worst-case response time: 50.823076923076925\n"
     ]
    }
   ],
   "source": [
    "Q1_DATALIST = [[0, 10, 50], [1, 30, 200], [2, 20, 100]]\n",
    "TAO = 0.1\n",
    "\n",
    "for i, item in enumerate(Q1_DATALIST):\n",
    "    Bi = calBi(i, Q1_DATALIST)\n",
    "    Ri = calRi(i, Bi, TAO, Q1_DATALIST)\n",
    "    Ri_list.append(Ri)\n",
    "    print ('Message μ'+ str(i) + ' worst-case response time: ' + str(Ri))"
   ]
  },
  {
   "cell_type": "code",
   "execution_count": null,
   "metadata": {},
   "outputs": [],
   "source": []
  }
 ],
 "metadata": {
  "kernelspec": {
   "display_name": "Python 3",
   "language": "python",
   "name": "python3"
  },
  "language_info": {
   "codemirror_mode": {
    "name": "ipython",
    "version": 3
   },
   "file_extension": ".py",
   "mimetype": "text/x-python",
   "name": "python",
   "nbconvert_exporter": "python",
   "pygments_lexer": "ipython3",
   "version": "3.5.6"
  }
 },
 "nbformat": 4,
 "nbformat_minor": 2
}
